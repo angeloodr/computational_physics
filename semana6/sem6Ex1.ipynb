{
 "cells": [
  {
   "cell_type": "markdown",
   "metadata": {},
   "source": [
    "$$ E(x) = \\int^x_0 e^{-t^2} dt$$\n",
    "Write a program to calculate E(x) for values of x from 0 to 3 in steps of 0.1."
   ]
  },
  {
   "cell_type": "code",
   "execution_count": 1,
   "metadata": {},
   "outputs": [
    {
     "name": "stdout",
     "output_type": "stream",
     "text": [
      "0.8862067342802121\n"
     ]
    }
   ],
   "source": [
    "'''\n",
    "neste programa avaliamos a integral acima por meio do metodo de trapezios \n",
    "'''\n",
    "import math\n",
    "def func(t):\n",
    "    return math.exp(-(t**2))\n",
    "\n",
    "def integralTrapezio (f, h = 0.1, b= 3, a=0):\n",
    "    soma = 0\n",
    "    for k in range(1 , int(b/h) ):\n",
    "        soma += f(a+ k*h)\n",
    "    return h*(  f(a)/2 + f(b)/2 + soma ) \n",
    "\n",
    "resultado  = integralTrapezio(func)\n",
    "print(resultado)"
   ]
  }
 ],
 "metadata": {
  "kernelspec": {
   "display_name": "Python 3.10.8 64-bit (microsoft store)",
   "language": "python",
   "name": "python3"
  },
  "language_info": {
   "codemirror_mode": {
    "name": "ipython",
    "version": 3
   },
   "file_extension": ".py",
   "mimetype": "text/x-python",
   "name": "python",
   "nbconvert_exporter": "python",
   "pygments_lexer": "ipython3",
   "version": "3.10.8"
  },
  "orig_nbformat": 4,
  "vscode": {
   "interpreter": {
    "hash": "c51acc1f6588e1d877ef583c61706ab2fa8ab6987e63afd43dd1fd5da2227427"
   }
  }
 },
 "nbformat": 4,
 "nbformat_minor": 2
}
