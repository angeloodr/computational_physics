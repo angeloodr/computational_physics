{
 "cells": [
  {
   "attachments": {},
   "cell_type": "markdown",
   "metadata": {},
   "source": [
    "### Neste código avaliamos a precisão numerica da linguagem de python para o calculo de simulações fisicas"
   ]
  },
  {
   "cell_type": "code",
   "execution_count": 1,
   "metadata": {},
   "outputs": [
    {
     "name": "stdout",
     "output_type": "stream",
     "text": [
      "1.010000000000001\n"
     ]
    }
   ],
   "source": [
    "def f(x):\n",
    "    return x*(x-1)\n",
    "\n",
    "x=1\n",
    "delta = 10**(-2)\n",
    "\n",
    "print((f(x+delta)-f(x))/delta)"
   ]
  },
  {
   "cell_type": "markdown",
   "metadata": {},
   "source": [
    "O valor encontrado analítico foi da derivada sendo igual a 1 e o numérico foi de 1.010000000000001. O erro do valor foi portanto de 0.010000000000001 significando que nossa aproximação tem um erro muito grande se comparado ao valor analítico. Dessa foma seria importante diminuirmos o valor do delta para melhorar a precisão. Esse erro ocorre por causa da imprecisão numérica existente na divisão de um numero <code>float</code>."
   ]
  },
  {
   "cell_type": "code",
   "execution_count": 3,
   "metadata": {},
   "outputs": [
    {
     "name": "stdout",
     "output_type": "stream",
     "text": [
      "[1.0000999999998899, 1.0000009999177333, 1.0000000039225287, 1.000000082840371, 1.0000889005833413, 0.9992007221626509]\n"
     ]
    }
   ],
   "source": [
    "x=1\n",
    "delta = [10**(-4), 10**(-6), 10**(-8), 10**(-10), 10**(-12), 10**(-14)]\n",
    "resultados = []\n",
    "\n",
    "for d in delta: \n",
    "    resultados.append((f(x+d)-f(x))/d)\n",
    "\n",
    "print(resultados)"
   ]
  },
  {
   "cell_type": "markdown",
   "metadata": {},
   "source": [
    "Nessa ultima celula podemos ver o esperado, o valor da aproximação fica mais proximo do real até o valor de $10^{-8}$ e depois o erro volta a aumentar. Isso ocorre por causa da imprecisão inata do numero em <code>float</code> no Python, que tem precisão somente até esse valor de potência."
   ]
  }
 ],
 "metadata": {
  "kernelspec": {
   "display_name": "Python 3.10.8 64-bit (microsoft store)",
   "language": "python",
   "name": "python3"
  },
  "language_info": {
   "codemirror_mode": {
    "name": "ipython",
    "version": 3
   },
   "file_extension": ".py",
   "mimetype": "text/x-python",
   "name": "python",
   "nbconvert_exporter": "python",
   "pygments_lexer": "ipython3",
   "version": "3.10.9 (tags/v3.10.9:1dd9be6, Dec  6 2022, 20:01:21) [MSC v.1934 64 bit (AMD64)]"
  },
  "orig_nbformat": 4,
  "vscode": {
   "interpreter": {
    "hash": "c51acc1f6588e1d877ef583c61706ab2fa8ab6987e63afd43dd1fd5da2227427"
   }
  }
 },
 "nbformat": 4,
 "nbformat_minor": 2
}
