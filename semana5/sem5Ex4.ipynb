{
 "cells": [
  {
   "cell_type": "code",
   "execution_count": 7,
   "metadata": {},
   "outputs": [
    {
     "data": {
      "text/plain": [
       "1.5707962742034223"
      ]
     },
     "execution_count": 7,
     "metadata": {},
     "output_type": "execute_result"
    }
   ],
   "source": [
    "import math\n",
    "N = 100000\n",
    "h = 2/N\n",
    "\n",
    "soma = 0\n",
    "for k in range(N):\n",
    "    soma += h*(math.sqrt(1-(-1+h*k)**2))\n",
    "\n",
    "soma"
   ]
  }
 ],
 "metadata": {
  "kernelspec": {
   "display_name": "Python 3.10.8 64-bit (microsoft store)",
   "language": "python",
   "name": "python3"
  },
  "language_info": {
   "codemirror_mode": {
    "name": "ipython",
    "version": 3
   },
   "file_extension": ".py",
   "mimetype": "text/x-python",
   "name": "python",
   "nbconvert_exporter": "python",
   "pygments_lexer": "ipython3",
   "version": "3.10.8"
  },
  "orig_nbformat": 4,
  "vscode": {
   "interpreter": {
    "hash": "c51acc1f6588e1d877ef583c61706ab2fa8ab6987e63afd43dd1fd5da2227427"
   }
  }
 },
 "nbformat": 4,
 "nbformat_minor": 2
}
