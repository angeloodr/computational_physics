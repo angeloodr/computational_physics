{
 "cells": [
  {
   "cell_type": "code",
   "execution_count": 2,
   "metadata": {},
   "outputs": [
    {
     "name": "stdout",
     "output_type": "stream",
     "text": [
      "0.4791666666666667 0.479425538604203\n"
     ]
    }
   ],
   "source": [
    "import math\n",
    "\n",
    "def calcSin(x,N=10**9):\n",
    "    seno = 0\n",
    "    for n in range(1,N+1):\n",
    "        seno += ( ((-1)**(n-1)) * (x**(2*n-1)) ) / math.factorial(2*n-1)\n",
    "        if(  ( ((-1)**((n+1)-1)) * (x**(2*(n+1)-1)) ) / math.factorial(2*(n+1)-1)  )/seno >= 10**(-7): \n",
    "            return seno\n",
    "\n",
    "x=0.5\n",
    "print ( calcSin(x), math.sin(x))"
   ]
  },
  {
   "cell_type": "code",
   "execution_count": 9,
   "metadata": {},
   "outputs": [
    {
     "name": "stdout",
     "output_type": "stream",
     "text": [
      "-0.009815242865826948 9.43477796076938\n"
     ]
    }
   ],
   "source": [
    "x=3*math.pi+0.01\n",
    "\n",
    "def calcSin2(x,N=10**9):\n",
    "    seno = 0\n",
    "    for n in range(1,N+1):\n",
    "        seno += ( ((-1)**(n-1)) * (x**(2*n-1)) ) / math.factorial(2*n-1)\n",
    "        if n <= (x/2): \n",
    "            return seno\n",
    "print(calcSin(x), calcSin2(x))\n",
    "\n"
   ]
  }
 ],
 "metadata": {
  "kernelspec": {
   "display_name": "Python 3.10.8 64-bit (microsoft store)",
   "language": "python",
   "name": "python3"
  },
  "language_info": {
   "codemirror_mode": {
    "name": "ipython",
    "version": 3
   },
   "file_extension": ".py",
   "mimetype": "text/x-python",
   "name": "python",
   "nbconvert_exporter": "python",
   "pygments_lexer": "ipython3",
   "version": "3.10.8"
  },
  "orig_nbformat": 4,
  "vscode": {
   "interpreter": {
    "hash": "c51acc1f6588e1d877ef583c61706ab2fa8ab6987e63afd43dd1fd5da2227427"
   }
  }
 },
 "nbformat": 4,
 "nbformat_minor": 2
}
